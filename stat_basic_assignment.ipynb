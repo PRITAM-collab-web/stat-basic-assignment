{
  "nbformat": 4,
  "nbformat_minor": 0,
  "metadata": {
    "colab": {
      "provenance": []
    },
    "kernelspec": {
      "name": "python3",
      "display_name": "Python 3"
    },
    "language_info": {
      "name": "python"
    }
  },
  "cells": [
    {
      "cell_type": "markdown",
      "source": [
        "# **Statistics Basics| Assignment **"
      ],
      "metadata": {
        "id": "2Qtle0mD7qth"
      }
    },
    {
      "cell_type": "markdown",
      "source": [
        "1)What is the difference between descriptive statistics and inferential statistics? Explain with examples.\n",
        "\n"
      ],
      "metadata": {
        "id": "xxaNmjF67nK6"
      }
    },
    {
      "cell_type": "markdown",
      "source": [
        "→ Descriptive statistics summarizes and describes the characteristics of a dataset, while inferential statistics uses sample data to draw conclusions and make predictions about a larger population.\n",
        "\n",
        "Example of descriptive statistics:\n",
        ">>Calculating the average score on a math test for all students in a classroom (the whole population).\n",
        "\n",
        "Example of inferential statistics:\n",
        ">>Conducting a poll to estimate the percentage of voters in a city who support a particular candidate, based on a survey of a random sample of voters.\n",
        "\n"
      ],
      "metadata": {
        "id": "iI8J1Y379fsv"
      }
    },
    {
      "cell_type": "markdown",
      "source": [
        "2) What is sampling in statistics? Explain the differences between random and stratified sampling.\n"
      ],
      "metadata": {
        "id": "hMOhBib69oxc"
      }
    },
    {
      "cell_type": "markdown",
      "source": [
        "→ the process of selecting a subset of individuals from a larger population to study and draw conclusions about the entire population.\n",
        "\n",
        "Difference between random and stratified sampling:\n",
        ">>Simple random sampling gives every member of the population an equal chance of being chosen, while stratified random sampling divides the population into subgroups (strata) and then randomly samples within each subgroups.\n"
      ],
      "metadata": {
        "id": "CoqBRa5A9uj4"
      }
    },
    {
      "cell_type": "markdown",
      "source": [
        "3)Define mean, median, and mode. Explain why these measures of central tendency are important.\n"
      ],
      "metadata": {
        "id": "OR2Qs2Rb9ykn"
      }
    },
    {
      "cell_type": "markdown",
      "source": [
        "→Mean, median, and mode are measures of central tendency, which describe the \"typical\" value in a dataset. Mean is the average, calculated by summing all values and dividing by the count. Median is the middle value when data is ordered. Mode is the most frequent value.\n",
        "Explaination:\n",
        ">> They are important because they summarize large datasets with a single value, making it easier to understand patterns and make comparisons.\n"
      ],
      "metadata": {
        "id": "eKm37S9t92VZ"
      }
    },
    {
      "cell_type": "markdown",
      "source": [
        "4)Explain skewness and kurtosis. What does a positive skew imply about the data?\n"
      ],
      "metadata": {
        "id": "OjaiU3hW96tz"
      }
    },
    {
      "cell_type": "markdown",
      "source": [
        "→ Skewness and kurtosis are statistical measures that describe the shape of a data distribution. Skewness indicates the asymmetry of the distribution, while kurtosis measures the \"tailedness\" or the presence of outliers. Positive skewness, also known as right skewness, means the data is more concentrated on the lower values, with a longer tail extending towards higher values.\n",
        "\n"
      ],
      "metadata": {
        "id": "0nsGel-39_Ng"
      }
    },
    {
      "cell_type": "markdown",
      "source": [
        "5) Implement a Python program to compute the mean, median, and mode of a given list of numbers. numbers = [12, 15, 12, 18, 19, 12, 20, 22, 19, 19, 24, 24, 24, 26, 28] .\n"
      ],
      "metadata": {
        "id": "W-1TECuS-CzS"
      }
    },
    {
      "cell_type": "code",
      "source": [
        "numbers= [12, 15, 12, 18, 19, 12, 20, 22, 19, 19, 24, 24, 24, 26, 28]\n",
        "import numpy as np\n",
        "from scipy import stats\n",
        "mean = np.mean(numbers)\n",
        "median = np.median(numbers)\n",
        "mode = stats.mode(numbers)\n",
        "print(f\"mean:{mean}\")\n",
        "print(f\"median:{median}\")\n",
        "print(f\"mode: {mode}\")"
      ],
      "metadata": {
        "colab": {
          "base_uri": "https://localhost:8080/"
        },
        "id": "rnM2OQAj-Oa5",
        "outputId": "6593c465-a130-474b-e035-56b921df760e"
      },
      "execution_count": 4,
      "outputs": [
        {
          "output_type": "stream",
          "name": "stdout",
          "text": [
            "mean:19.6\n",
            "median:19.0\n",
            "mode: ModeResult(mode=np.int64(12), count=np.int64(3))\n"
          ]
        }
      ]
    },
    {
      "cell_type": "markdown",
      "source": [
        "6)Compute the covariance and correlation coefficient between the following two datasets provided as lists in Python: list_x = [10, 20, 30, 40, 50] list_y = [15, 25, 35, 45, 60]\n"
      ],
      "metadata": {
        "id": "Yq_2Qc9p-GHE"
      }
    },
    {
      "cell_type": "code",
      "execution_count": 5,
      "metadata": {
        "colab": {
          "base_uri": "https://localhost:8080/"
        },
        "id": "Qi-Kge297Xwm",
        "outputId": "5ec83431-bdeb-4aae-f0d6-caf4556a385c"
      },
      "outputs": [
        {
          "output_type": "stream",
          "name": "stdout",
          "text": [
            "covariance:275.0\n",
            "correlation: 0.995893206467704\n"
          ]
        }
      ],
      "source": [
        "listx = [10, 20, 30, 40, 50]\n",
        "list_y = [15, 25, 35, 45, 60]\n",
        "cov = np.cov(listx,list_y)[0,1]\n",
        "corr = np.corrcoef(listx,list_y)[0,1]\n",
        "print(f\"covariance:{cov}\")\n",
        "print(f\"correlation: {corr}\")"
      ]
    },
    {
      "cell_type": "markdown",
      "source": [
        "7)Write a Python script to draw a boxplot for the following numeric list and identify its outliers. Explain the result: data = [12, 14, 14, 15, 18, 19, 19, 21, 22, 22, 23, 23, 24, 26, 29, 35]\n"
      ],
      "metadata": {
        "id": "AwEUPJBYAhOY"
      }
    },
    {
      "cell_type": "code",
      "source": [
        "data = [12, 14, 14, 15, 18, 19, 19, 21, 22, 22, 23, 23, 24, 26, 29, 35]\n",
        "import matplotlib.pyplot as plt\n",
        "plt.figure(figsize=(8,5))\n",
        "plt.boxplot(data)\n",
        "plt.title('boxplot of data')\n",
        "plt.ylabel('value')\n",
        "plt.grid(True)\n",
        "plt.show()\n",
        "q1 = np.percentile(data,25)\n",
        "q3 = np.percentile(data,75)\n",
        "iqr = q3-q1\n",
        "upperbound = q3+1.5*iqr\n",
        "lowerbound = q1-1.5*iqr\n",
        "outlier = [x for x in data if x>upperbound or x<lowerbound]\n",
        "print('q1',q1)\n",
        "print('q3',q3)\n",
        "print('iqr',iqr)\n",
        "print('upperbound', upperbound)\n",
        "print('lowerbound',lowerbound)\n",
        "print('outlier', outlier)"
      ],
      "metadata": {
        "colab": {
          "base_uri": "https://localhost:8080/",
          "height": 572
        },
        "id": "hX874vjlAgIv",
        "outputId": "59b4b075-e6cc-4b9e-f86e-9926dabf9e32"
      },
      "execution_count": 8,
      "outputs": [
        {
          "output_type": "display_data",
          "data": {
            "text/plain": [
              "<Figure size 800x500 with 1 Axes>"
            ],
            "image/png": "[encoded data removed]"
          },
          "metadata": {}
        },
        {
          "output_type": "stream",
          "name": "stdout",
          "text": [
            "q1 17.25\n",
            "q3 23.25\n",
            "iqr 6.0\n",
            "upperbound 32.25\n",
            "lowerbound 8.25\n",
            "outlier [35]\n"
          ]
        }
      ]
    },
    {
      "cell_type": "markdown",
      "source": [
        "8) You are working as a data analyst in an e-commerce company. The marketing team wants to know if there is a relationship between advertising spend and daily sales. ● Explain how you would use covariance and correlation to explore this relationship. ● Write Python code to compute the correlation between the two lists: advertising_spend = [200, 250, 300, 400, 500] daily_sales = [2200, 2450, 2750, 3200, 4000]\n"
      ],
      "metadata": {
        "id": "bPbQvh_-Dp8A"
      }
    },
    {
      "cell_type": "code",
      "source": [
        "#To analyze the relationship between advertising spend and daily sales,\n",
        "# covariance and correlation can be used.\n",
        "#Covariance indicates the direction of the relationship (positive, negative, or zero),\n",
        "#while correlation measures the strength and direction of the linear relationship\n",
        "advertising_spend = [200, 250, 300, 400, 500]\n",
        "daily_sales = [2200, 2450, 2750, 3200, 4000]\n",
        "cov = np.cov(advertising_spend,daily_sales)[0,1]\n",
        "corr = np.corrcoef(advertising_spend,daily_sales)[0,1]\n",
        "print(f\"covariance:{cov}\")\n",
        "print(f\"correlation:{corr}\")\n",
        "\n"
      ],
      "metadata": {
        "colab": {
          "base_uri": "https://localhost:8080/"
        },
        "id": "jqgg48ZtDusi",
        "outputId": "8903c6c2-fa21-4f41-a82f-af4e8d50958d"
      },
      "execution_count": 9,
      "outputs": [
        {
          "output_type": "stream",
          "name": "stdout",
          "text": [
            "covariance:84875.0\n",
            "correlation:0.9935824101653329\n"
          ]
        }
      ]
    },
    {
      "cell_type": "markdown",
      "source": [
        "9) Your team has collected customer satisfaction survey data on a scale of 1-10 and wants to understand its distribution before launching a new product. ● Explain which summary statistics and visualizations (e.g. mean, standard deviation, histogram) you’d use. ● Write Python code to create a histogram using Matplotlib for the survey data: survey_scores = [7, 8, 5, 9, 6, 7, 8, 9, 10, 4, 7, 6, 9, 8, 7]\n"
      ],
      "metadata": {
        "id": "bQt4StZZErGF"
      }
    },
    {
      "cell_type": "markdown",
      "source": [
        "-->To understand the distribution of customer satisfaction data, you should use a combination of summary statistics like mean and standard deviation, and visualizations like a histogram. The mean provides a measure of central tendency, while the standard deviation indicates the spread of the data. A histogram visually represents the frequency distribution of scores, revealing patterns and potential outliers.\n"
      ],
      "metadata": {
        "id": "vjFlEsqjEvKl"
      }
    },
    {
      "cell_type": "code",
      "source": [
        "survey_scores = [7, 8, 5, 9, 6, 7, 8, 9, 10, 4, 7, 6, 9, 8, 7]\n",
        "mean = np.mean(survey_scores)\n",
        "std = np.std(survey_scores)\n",
        "plt.hist(survey_scores,bins = range(1,15), edgecolor = 'white',color = 'b')\n",
        "plt.title(\"survey\")\n",
        "plt.xlabel(\"scores\")\n",
        "plt.ylabel(\"frequency\")\n",
        "plt.xticks(range(1,14))\n",
        "plt.show()\n",
        "print('mean',mean)\n",
        "print('standard deviation',std)"
      ],
      "metadata": {
        "colab": {
          "base_uri": "https://localhost:8080/",
          "height": 507
        },
        "id": "JU0MXlN3FZl9",
        "outputId": "f44080b1-0f5e-481d-9644-3fc212323e6d"
      },
      "execution_count": 15,
      "outputs": [
        {
          "output_type": "display_data",
          "data": {
            "text/plain": [
              "<Figure size 640x480 with 1 Axes>"
            ],
            "image/png": "[encoded data removed]"
          },
          "metadata": {}
        },
        {
          "output_type": "stream",
          "name": "stdout",
          "text": [
            "mean 7.333333333333333\n",
            "standard deviation 1.577621275493231\n"
          ]
        }
      ]
    },
    {
      "cell_type": "markdown",
      "source": [
        "\n"
      ],
      "metadata": {
        "id": "yrReQhm8FJDq"
      }
    }
  ]
}